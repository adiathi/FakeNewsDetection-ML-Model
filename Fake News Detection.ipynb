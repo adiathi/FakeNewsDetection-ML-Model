{
 "cells": [
  {
   "cell_type": "markdown",
   "id": "87d8663d",
   "metadata": {},
   "source": [
    "# PREDICTING FAKE NEWS DETECTION USING ML\n",
    "\n",
    "this notebook looks into various Python based ML and data science libraries in an attempt to build a ML model capable of \n",
    "predicting whether news is true or false based on given attributes.\n",
    "\n",
    "\n",
    "\n",
    "We're going to take following approach :\n",
    "1. Problem definition/statement\n",
    "2. Importing Necessary libraries & tools\n",
    "3. Data loading & cleaning\n",
    "4. Data Preprocessing\n",
    "5. modelling"
   ]
  },
  {
   "cell_type": "markdown",
   "id": "e02b6a71",
   "metadata": {},
   "source": [
    "# Problem definition/statement\n",
    "\n",
    "With the penetration of social media our country is fighting a fake news pandemic. So some brave volunteers took upon the challenge and compiled a list of real and fake news of the past. Now it's your responsibility to create an AI model that can predict if a news is real or fake before it goes viral in social media.\n",
    "\n",
    "About the Dataset:\n",
    "\n",
    "1. id: unique id for a news article \n",
    "2. title: the title of a news article\n",
    "3. author: author of the news article\n",
    "4. text: the text of the article, could be incomplete \n",
    "5. label: a label that marks whether the news article is real or fake:\n",
    "\n",
    "1: Fake news\n",
    "\n",
    "0: real News"
   ]
  },
  {
   "cell_type": "markdown",
   "id": "a5fdf6bc",
   "metadata": {},
   "source": [
    "### PREPARING THE TOOLS"
   ]
  },
  {
   "cell_type": "code",
   "execution_count": 6,
   "id": "abe263ad",
   "metadata": {},
   "outputs": [
    {
     "name": "stderr",
     "output_type": "stream",
     "text": [
      "[nltk_data] Downloading package stopwords to\n",
      "[nltk_data]     C:\\Users\\adity\\AppData\\Roaming\\nltk_data...\n",
      "[nltk_data]   Package stopwords is already up-to-date!\n"
     ]
    },
    {
     "data": {
      "text/plain": [
       "True"
      ]
     },
     "execution_count": 6,
     "metadata": {},
     "output_type": "execute_result"
    }
   ],
   "source": [
    "#import all the tools\n",
    "\n",
    "# regular EDA and plotting libraries\n",
    "import numpy as np\n",
    "import pandas as pd\n",
    "import matplotlib.pyplot as plt\n",
    "import seaborn as sns\n",
    "%matplotlib inline\n",
    "\n",
    "# models from sklearn\n",
    "from sklearn.linear_model import LogisticRegression\n",
    "from sklearn.neighbors import KNeighborsClassifier\n",
    "from sklearn.ensemble import RandomForestClassifier\n",
    "\n",
    "# model evaluation\n",
    "from sklearn.model_selection import train_test_split, cross_val_score\n",
    "from sklearn.model_selection import RandomizedSearchCV, GridSearchCV\n",
    "from sklearn.metrics import confusion_matrix, classification_report\n",
    "from sklearn.metrics import precision_score, recall_score, f1_score\n",
    "from sklearn.metrics import plot_roc_curve\n",
    "import nltk\n",
    "import re\n",
    "\n",
    "# module for preprocessing\n",
    "from nltk.corpus import stopwords\n",
    "from nltk.stem import WordNetLemmatizer\n",
    "nltk.download('stopwords')"
   ]
  },
  {
   "cell_type": "markdown",
   "id": "9bc21bfa",
   "metadata": {},
   "source": [
    "### LOADING DATA"
   ]
  },
  {
   "cell_type": "code",
   "execution_count": 7,
   "id": "136a67e3",
   "metadata": {},
   "outputs": [
    {
     "data": {
      "text/html": [
       "<div>\n",
       "<style scoped>\n",
       "    .dataframe tbody tr th:only-of-type {\n",
       "        vertical-align: middle;\n",
       "    }\n",
       "\n",
       "    .dataframe tbody tr th {\n",
       "        vertical-align: top;\n",
       "    }\n",
       "\n",
       "    .dataframe thead th {\n",
       "        text-align: right;\n",
       "    }\n",
       "</style>\n",
       "<table border=\"1\" class=\"dataframe\">\n",
       "  <thead>\n",
       "    <tr style=\"text-align: right;\">\n",
       "      <th></th>\n",
       "      <th>id</th>\n",
       "      <th>title</th>\n",
       "      <th>author</th>\n",
       "      <th>text</th>\n",
       "      <th>label</th>\n",
       "    </tr>\n",
       "  </thead>\n",
       "  <tbody>\n",
       "    <tr>\n",
       "      <th>0</th>\n",
       "      <td>0</td>\n",
       "      <td>House Dem Aide: We Didn’t Even See Comey’s Let...</td>\n",
       "      <td>Darrell Lucus</td>\n",
       "      <td>House Dem Aide: We Didn’t Even See Comey’s Let...</td>\n",
       "      <td>1</td>\n",
       "    </tr>\n",
       "    <tr>\n",
       "      <th>1</th>\n",
       "      <td>1</td>\n",
       "      <td>FLYNN: Hillary Clinton, Big Woman on Campus - ...</td>\n",
       "      <td>Daniel J. Flynn</td>\n",
       "      <td>Ever get the feeling your life circles the rou...</td>\n",
       "      <td>0</td>\n",
       "    </tr>\n",
       "    <tr>\n",
       "      <th>2</th>\n",
       "      <td>2</td>\n",
       "      <td>Why the Truth Might Get You Fired</td>\n",
       "      <td>Consortiumnews.com</td>\n",
       "      <td>Why the Truth Might Get You Fired October 29, ...</td>\n",
       "      <td>1</td>\n",
       "    </tr>\n",
       "    <tr>\n",
       "      <th>3</th>\n",
       "      <td>3</td>\n",
       "      <td>15 Civilians Killed In Single US Airstrike Hav...</td>\n",
       "      <td>Jessica Purkiss</td>\n",
       "      <td>Videos 15 Civilians Killed In Single US Airstr...</td>\n",
       "      <td>1</td>\n",
       "    </tr>\n",
       "    <tr>\n",
       "      <th>4</th>\n",
       "      <td>4</td>\n",
       "      <td>Iranian woman jailed for fictional unpublished...</td>\n",
       "      <td>Howard Portnoy</td>\n",
       "      <td>Print \\nAn Iranian woman has been sentenced to...</td>\n",
       "      <td>1</td>\n",
       "    </tr>\n",
       "  </tbody>\n",
       "</table>\n",
       "</div>"
      ],
      "text/plain": [
       "   id                                              title              author  \\\n",
       "0   0  House Dem Aide: We Didn’t Even See Comey’s Let...       Darrell Lucus   \n",
       "1   1  FLYNN: Hillary Clinton, Big Woman on Campus - ...     Daniel J. Flynn   \n",
       "2   2                  Why the Truth Might Get You Fired  Consortiumnews.com   \n",
       "3   3  15 Civilians Killed In Single US Airstrike Hav...     Jessica Purkiss   \n",
       "4   4  Iranian woman jailed for fictional unpublished...      Howard Portnoy   \n",
       "\n",
       "                                                text  label  \n",
       "0  House Dem Aide: We Didn’t Even See Comey’s Let...      1  \n",
       "1  Ever get the feeling your life circles the rou...      0  \n",
       "2  Why the Truth Might Get You Fired October 29, ...      1  \n",
       "3  Videos 15 Civilians Killed In Single US Airstr...      1  \n",
       "4  Print \\nAn Iranian woman has been sentenced to...      1  "
      ]
     },
     "execution_count": 7,
     "metadata": {},
     "output_type": "execute_result"
    }
   ],
   "source": [
    "df=pd.read_csv(\"train.csv\")\n",
    "df.head()"
   ]
  },
  {
   "cell_type": "code",
   "execution_count": 8,
   "id": "73ab72b9",
   "metadata": {},
   "outputs": [
    {
     "data": {
      "text/html": [
       "<div>\n",
       "<style scoped>\n",
       "    .dataframe tbody tr th:only-of-type {\n",
       "        vertical-align: middle;\n",
       "    }\n",
       "\n",
       "    .dataframe tbody tr th {\n",
       "        vertical-align: top;\n",
       "    }\n",
       "\n",
       "    .dataframe thead th {\n",
       "        text-align: right;\n",
       "    }\n",
       "</style>\n",
       "<table border=\"1\" class=\"dataframe\">\n",
       "  <thead>\n",
       "    <tr style=\"text-align: right;\">\n",
       "      <th></th>\n",
       "      <th>id</th>\n",
       "      <th>title</th>\n",
       "      <th>author</th>\n",
       "      <th>text</th>\n",
       "      <th>label</th>\n",
       "    </tr>\n",
       "  </thead>\n",
       "  <tbody>\n",
       "    <tr>\n",
       "      <th>20795</th>\n",
       "      <td>20795</td>\n",
       "      <td>Rapper T.I.: Trump a ’Poster Child For White S...</td>\n",
       "      <td>Jerome Hudson</td>\n",
       "      <td>Rapper T. I. unloaded on black celebrities who...</td>\n",
       "      <td>0</td>\n",
       "    </tr>\n",
       "    <tr>\n",
       "      <th>20796</th>\n",
       "      <td>20796</td>\n",
       "      <td>N.F.L. Playoffs: Schedule, Matchups and Odds -...</td>\n",
       "      <td>Benjamin Hoffman</td>\n",
       "      <td>When the Green Bay Packers lost to the Washing...</td>\n",
       "      <td>0</td>\n",
       "    </tr>\n",
       "    <tr>\n",
       "      <th>20797</th>\n",
       "      <td>20797</td>\n",
       "      <td>Macy’s Is Said to Receive Takeover Approach by...</td>\n",
       "      <td>Michael J. de la Merced and Rachel Abrams</td>\n",
       "      <td>The Macy’s of today grew from the union of sev...</td>\n",
       "      <td>0</td>\n",
       "    </tr>\n",
       "    <tr>\n",
       "      <th>20798</th>\n",
       "      <td>20798</td>\n",
       "      <td>NATO, Russia To Hold Parallel Exercises In Bal...</td>\n",
       "      <td>Alex Ansary</td>\n",
       "      <td>NATO, Russia To Hold Parallel Exercises In Bal...</td>\n",
       "      <td>1</td>\n",
       "    </tr>\n",
       "    <tr>\n",
       "      <th>20799</th>\n",
       "      <td>20799</td>\n",
       "      <td>What Keeps the F-35 Alive</td>\n",
       "      <td>David Swanson</td>\n",
       "      <td>David Swanson is an author, activist, journa...</td>\n",
       "      <td>1</td>\n",
       "    </tr>\n",
       "  </tbody>\n",
       "</table>\n",
       "</div>"
      ],
      "text/plain": [
       "          id                                              title  \\\n",
       "20795  20795  Rapper T.I.: Trump a ’Poster Child For White S...   \n",
       "20796  20796  N.F.L. Playoffs: Schedule, Matchups and Odds -...   \n",
       "20797  20797  Macy’s Is Said to Receive Takeover Approach by...   \n",
       "20798  20798  NATO, Russia To Hold Parallel Exercises In Bal...   \n",
       "20799  20799                          What Keeps the F-35 Alive   \n",
       "\n",
       "                                          author  \\\n",
       "20795                              Jerome Hudson   \n",
       "20796                           Benjamin Hoffman   \n",
       "20797  Michael J. de la Merced and Rachel Abrams   \n",
       "20798                                Alex Ansary   \n",
       "20799                              David Swanson   \n",
       "\n",
       "                                                    text  label  \n",
       "20795  Rapper T. I. unloaded on black celebrities who...      0  \n",
       "20796  When the Green Bay Packers lost to the Washing...      0  \n",
       "20797  The Macy’s of today grew from the union of sev...      0  \n",
       "20798  NATO, Russia To Hold Parallel Exercises In Bal...      1  \n",
       "20799    David Swanson is an author, activist, journa...      1  "
      ]
     },
     "execution_count": 8,
     "metadata": {},
     "output_type": "execute_result"
    }
   ],
   "source": [
    "df.tail()"
   ]
  },
  {
   "cell_type": "code",
   "execution_count": 9,
   "id": "4e57f638",
   "metadata": {},
   "outputs": [
    {
     "data": {
      "text/plain": [
       "1    10413\n",
       "0    10387\n",
       "Name: label, dtype: int64"
      ]
     },
     "execution_count": 9,
     "metadata": {},
     "output_type": "execute_result"
    }
   ],
   "source": [
    "df[\"label\"].value_counts()"
   ]
  },
  {
   "cell_type": "code",
   "execution_count": 10,
   "id": "e358ff7a",
   "metadata": {},
   "outputs": [
    {
     "data": {
      "image/png": "[encoded data removed]",
      "text/plain": [
       "<Figure size 432x288 with 1 Axes>"
      ]
     },
     "metadata": {
      "needs_background": "light"
     },
     "output_type": "display_data"
    }
   ],
   "source": [
    "df[\"label\"].value_counts().plot(kind=\"bar\",color=[\"salmon\",\"lightblue\"]);"
   ]
  },
  {
   "cell_type": "code",
   "execution_count": 11,
   "id": "0beee674",
   "metadata": {},
   "outputs": [
    {
     "name": "stdout",
     "output_type": "stream",
     "text": [
      "<class 'pandas.core.frame.DataFrame'>\n",
      "RangeIndex: 20800 entries, 0 to 20799\n",
      "Data columns (total 5 columns):\n",
      " #   Column  Non-Null Count  Dtype \n",
      "---  ------  --------------  ----- \n",
      " 0   id      20800 non-null  int64 \n",
      " 1   title   20242 non-null  object\n",
      " 2   author  18843 non-null  object\n",
      " 3   text    20761 non-null  object\n",
      " 4   label   20800 non-null  int64 \n",
      "dtypes: int64(2), object(3)\n",
      "memory usage: 812.6+ KB\n"
     ]
    }
   ],
   "source": [
    "df.info()"
   ]
  },
  {
   "cell_type": "code",
   "execution_count": 12,
   "id": "e27d13a4",
   "metadata": {},
   "outputs": [
    {
     "data": {
      "text/html": [
       "<div>\n",
       "<style scoped>\n",
       "    .dataframe tbody tr th:only-of-type {\n",
       "        vertical-align: middle;\n",
       "    }\n",
       "\n",
       "    .dataframe tbody tr th {\n",
       "        vertical-align: top;\n",
       "    }\n",
       "\n",
       "    .dataframe thead th {\n",
       "        text-align: right;\n",
       "    }\n",
       "</style>\n",
       "<table border=\"1\" class=\"dataframe\">\n",
       "  <thead>\n",
       "    <tr style=\"text-align: right;\">\n",
       "      <th></th>\n",
       "      <th>id</th>\n",
       "      <th>label</th>\n",
       "    </tr>\n",
       "  </thead>\n",
       "  <tbody>\n",
       "    <tr>\n",
       "      <th>count</th>\n",
       "      <td>20800.000000</td>\n",
       "      <td>20800.000000</td>\n",
       "    </tr>\n",
       "    <tr>\n",
       "      <th>mean</th>\n",
       "      <td>10399.500000</td>\n",
       "      <td>0.500625</td>\n",
       "    </tr>\n",
       "    <tr>\n",
       "      <th>std</th>\n",
       "      <td>6004.587135</td>\n",
       "      <td>0.500012</td>\n",
       "    </tr>\n",
       "    <tr>\n",
       "      <th>min</th>\n",
       "      <td>0.000000</td>\n",
       "      <td>0.000000</td>\n",
       "    </tr>\n",
       "    <tr>\n",
       "      <th>25%</th>\n",
       "      <td>5199.750000</td>\n",
       "      <td>0.000000</td>\n",
       "    </tr>\n",
       "    <tr>\n",
       "      <th>50%</th>\n",
       "      <td>10399.500000</td>\n",
       "      <td>1.000000</td>\n",
       "    </tr>\n",
       "    <tr>\n",
       "      <th>75%</th>\n",
       "      <td>15599.250000</td>\n",
       "      <td>1.000000</td>\n",
       "    </tr>\n",
       "    <tr>\n",
       "      <th>max</th>\n",
       "      <td>20799.000000</td>\n",
       "      <td>1.000000</td>\n",
       "    </tr>\n",
       "  </tbody>\n",
       "</table>\n",
       "</div>"
      ],
      "text/plain": [
       "                 id         label\n",
       "count  20800.000000  20800.000000\n",
       "mean   10399.500000      0.500625\n",
       "std     6004.587135      0.500012\n",
       "min        0.000000      0.000000\n",
       "25%     5199.750000      0.000000\n",
       "50%    10399.500000      1.000000\n",
       "75%    15599.250000      1.000000\n",
       "max    20799.000000      1.000000"
      ]
     },
     "execution_count": 12,
     "metadata": {},
     "output_type": "execute_result"
    }
   ],
   "source": [
    "df.describe()"
   ]
  },
  {
   "cell_type": "code",
   "execution_count": 13,
   "id": "d2ac5625",
   "metadata": {},
   "outputs": [
    {
     "data": {
      "text/plain": [
       "id           0\n",
       "title      558\n",
       "author    1957\n",
       "text        39\n",
       "label        0\n",
       "dtype: int64"
      ]
     },
     "execution_count": 13,
     "metadata": {},
     "output_type": "execute_result"
    }
   ],
   "source": [
    "df.isnull().sum()"
   ]
  },
  {
   "cell_type": "markdown",
   "id": "00c80f9d",
   "metadata": {},
   "source": [
    "### *Since our dataset's target variable is label which is 1 in case of fake news and 0 in case of real news* \n",
    "#### Let's calculate the following:\n",
    "\n",
    "1. Total percentage of 1 and 0 in label column\n",
    "2. Null author values as per label\n",
    "3. Label vaues as per empty title and text rows"
   ]
  },
  {
   "cell_type": "code",
   "execution_count": 14,
   "id": "74bdb57c",
   "metadata": {},
   "outputs": [
    {
     "data": {
      "text/plain": [
       "1    0.500625\n",
       "0    0.499375\n",
       "Name: label, dtype: float64"
      ]
     },
     "execution_count": 14,
     "metadata": {},
     "output_type": "execute_result"
    }
   ],
   "source": [
    "# There is 50.06% real news and 49.93% fake news\n",
    "df.label.value_counts(normalize=True)"
   ]
  },
  {
   "cell_type": "code",
   "execution_count": 15,
   "id": "22422c2e",
   "metadata": {},
   "outputs": [
    {
     "name": "stdout",
     "output_type": "stream",
     "text": [
      "Shape of empty author values is:(1957, 5)\n"
     ]
    }
   ],
   "source": [
    "author_empty=df[df[\"author\"].isnull()]\n",
    "print(\"Shape of empty author values is:{}\".format(author_empty.shape))"
   ]
  },
  {
   "cell_type": "code",
   "execution_count": 16,
   "id": "a03c61c3",
   "metadata": {},
   "outputs": [
    {
     "data": {
      "text/plain": [
       "1    0.986714\n",
       "0    0.013286\n",
       "Name: label, dtype: float64"
      ]
     },
     "execution_count": 16,
     "metadata": {},
     "output_type": "execute_result"
    }
   ],
   "source": [
    "# 98% \"1\" values and 2% \"0\" values\n",
    "author_empty[\"label\"].value_counts(normalize=True)"
   ]
  },
  {
   "cell_type": "code",
   "execution_count": 17,
   "id": "bc3dca2f",
   "metadata": {},
   "outputs": [
    {
     "name": "stdout",
     "output_type": "stream",
     "text": [
      "Shape of empty text values is:(39, 5)\n"
     ]
    }
   ],
   "source": [
    "text_empty=df[df[\"text\"].isnull()]\n",
    "print(\"Shape of empty text values is:{}\".format(text_empty.shape))"
   ]
  },
  {
   "cell_type": "code",
   "execution_count": 18,
   "id": "bcbf54a2",
   "metadata": {},
   "outputs": [
    {
     "data": {
      "text/plain": [
       "1    1.0\n",
       "Name: label, dtype: float64"
      ]
     },
     "execution_count": 18,
     "metadata": {},
     "output_type": "execute_result"
    }
   ],
   "source": [
    "# All the news where there is no text present is fake news\n",
    "text_empty[\"label\"].value_counts(normalize=True)"
   ]
  },
  {
   "cell_type": "code",
   "execution_count": 19,
   "id": "82e69af7",
   "metadata": {},
   "outputs": [
    {
     "name": "stdout",
     "output_type": "stream",
     "text": [
      "Shape of empty title values is:(558, 5)\n"
     ]
    }
   ],
   "source": [
    "title_empty=df[df[\"title\"].isnull()]\n",
    "print(\"Shape of empty title values is:{}\".format(title_empty.shape))"
   ]
  },
  {
   "cell_type": "code",
   "execution_count": 20,
   "id": "842535cf",
   "metadata": {},
   "outputs": [
    {
     "data": {
      "text/plain": [
       "1    1.0\n",
       "Name: label, dtype: float64"
      ]
     },
     "execution_count": 20,
     "metadata": {},
     "output_type": "execute_result"
    }
   ],
   "source": [
    "# All the news where there is no title present is fake news\n",
    "title_empty[\"label\"].value_counts(normalize=True)"
   ]
  },
  {
   "cell_type": "code",
   "execution_count": 21,
   "id": "99ae4292",
   "metadata": {},
   "outputs": [],
   "source": [
    "df.set_index('id',inplace=True)"
   ]
  },
  {
   "cell_type": "code",
   "execution_count": 22,
   "id": "a0b5473b",
   "metadata": {},
   "outputs": [
    {
     "data": {
      "text/plain": [
       "0    0.897895\n",
       "1    0.102105\n",
       "Name: label, dtype: float64"
      ]
     },
     "execution_count": 22,
     "metadata": {},
     "output_type": "execute_result"
    }
   ],
   "source": [
    "author_max=df.author.value_counts()\n",
    "author_max.index.name=\"total\"\n",
    "author_max = author_max.to_frame().reset_index()\n",
    "main_authors=author_max[author_max[\"author\"]>100]\n",
    "author_real=main_authors.total\n",
    "authors=df[df.author.isin(author_real)]\n",
    "authors.label.value_counts(normalize=True)"
   ]
  },
  {
   "cell_type": "markdown",
   "id": "9c02d9c6",
   "metadata": {},
   "source": [
    "### *Insights from above are as follows:*\n",
    "1. 98% of the values where the author values are not present represents fake news.\n",
    "2. Every news where there is absense of title or text is a 100% fake news.\n",
    "3. Among the authors who have 100+ publications; 89.7% represent real news and 10.3% represents fake news."
   ]
  },
  {
   "cell_type": "code",
   "execution_count": 23,
   "id": "14301938",
   "metadata": {},
   "outputs": [],
   "source": [
    "df=df.fillna('')"
   ]
  },
  {
   "cell_type": "code",
   "execution_count": 24,
   "id": "0169ad65",
   "metadata": {},
   "outputs": [
    {
     "data": {
      "text/html": [
       "<div>\n",
       "<style scoped>\n",
       "    .dataframe tbody tr th:only-of-type {\n",
       "        vertical-align: middle;\n",
       "    }\n",
       "\n",
       "    .dataframe tbody tr th {\n",
       "        vertical-align: top;\n",
       "    }\n",
       "\n",
       "    .dataframe thead th {\n",
       "        text-align: right;\n",
       "    }\n",
       "</style>\n",
       "<table border=\"1\" class=\"dataframe\">\n",
       "  <thead>\n",
       "    <tr style=\"text-align: right;\">\n",
       "      <th></th>\n",
       "      <th>title</th>\n",
       "      <th>author</th>\n",
       "      <th>text</th>\n",
       "      <th>label</th>\n",
       "    </tr>\n",
       "    <tr>\n",
       "      <th>id</th>\n",
       "      <th></th>\n",
       "      <th></th>\n",
       "      <th></th>\n",
       "      <th></th>\n",
       "    </tr>\n",
       "  </thead>\n",
       "  <tbody>\n",
       "    <tr>\n",
       "      <th>0</th>\n",
       "      <td>House Dem Aide: We Didn’t Even See Comey’s Let...</td>\n",
       "      <td>Darrell Lucus</td>\n",
       "      <td>House Dem Aide: We Didn’t Even See Comey’s Let...</td>\n",
       "      <td>1</td>\n",
       "    </tr>\n",
       "    <tr>\n",
       "      <th>1</th>\n",
       "      <td>FLYNN: Hillary Clinton, Big Woman on Campus - ...</td>\n",
       "      <td>Daniel J. Flynn</td>\n",
       "      <td>Ever get the feeling your life circles the rou...</td>\n",
       "      <td>0</td>\n",
       "    </tr>\n",
       "    <tr>\n",
       "      <th>2</th>\n",
       "      <td>Why the Truth Might Get You Fired</td>\n",
       "      <td>Consortiumnews.com</td>\n",
       "      <td>Why the Truth Might Get You Fired October 29, ...</td>\n",
       "      <td>1</td>\n",
       "    </tr>\n",
       "    <tr>\n",
       "      <th>3</th>\n",
       "      <td>15 Civilians Killed In Single US Airstrike Hav...</td>\n",
       "      <td>Jessica Purkiss</td>\n",
       "      <td>Videos 15 Civilians Killed In Single US Airstr...</td>\n",
       "      <td>1</td>\n",
       "    </tr>\n",
       "    <tr>\n",
       "      <th>4</th>\n",
       "      <td>Iranian woman jailed for fictional unpublished...</td>\n",
       "      <td>Howard Portnoy</td>\n",
       "      <td>Print \\nAn Iranian woman has been sentenced to...</td>\n",
       "      <td>1</td>\n",
       "    </tr>\n",
       "  </tbody>\n",
       "</table>\n",
       "</div>"
      ],
      "text/plain": [
       "                                                title              author  \\\n",
       "id                                                                          \n",
       "0   House Dem Aide: We Didn’t Even See Comey’s Let...       Darrell Lucus   \n",
       "1   FLYNN: Hillary Clinton, Big Woman on Campus - ...     Daniel J. Flynn   \n",
       "2                   Why the Truth Might Get You Fired  Consortiumnews.com   \n",
       "3   15 Civilians Killed In Single US Airstrike Hav...     Jessica Purkiss   \n",
       "4   Iranian woman jailed for fictional unpublished...      Howard Portnoy   \n",
       "\n",
       "                                                 text  label  \n",
       "id                                                            \n",
       "0   House Dem Aide: We Didn’t Even See Comey’s Let...      1  \n",
       "1   Ever get the feeling your life circles the rou...      0  \n",
       "2   Why the Truth Might Get You Fired October 29, ...      1  \n",
       "3   Videos 15 Civilians Killed In Single US Airstr...      1  \n",
       "4   Print \\nAn Iranian woman has been sentenced to...      1  "
      ]
     },
     "execution_count": 24,
     "metadata": {},
     "output_type": "execute_result"
    }
   ],
   "source": [
    "df.head()"
   ]
  },
  {
   "cell_type": "code",
   "execution_count": 25,
   "id": "746061dc",
   "metadata": {},
   "outputs": [
    {
     "data": {
      "text/plain": [
       "title     0\n",
       "author    0\n",
       "text      0\n",
       "label     0\n",
       "dtype: int64"
      ]
     },
     "execution_count": 25,
     "metadata": {},
     "output_type": "execute_result"
    }
   ],
   "source": [
    "df.isnull().sum()"
   ]
  },
  {
   "cell_type": "code",
   "execution_count": 26,
   "id": "9d982459",
   "metadata": {},
   "outputs": [
    {
     "data": {
      "text/plain": [
       "'Checked Duplicates'"
      ]
     },
     "execution_count": 26,
     "metadata": {},
     "output_type": "execute_result"
    }
   ],
   "source": [
    "# Removes Data Duplicates while Retaining the First one\n",
    "def remove_duplicate(data):\n",
    "    data.drop_duplicates(keep=\"first\", inplace=True)\n",
    "    return \"Checked Duplicates\"\n",
    "\n",
    "# Removes Duplicates from train data\n",
    "remove_duplicate(df)"
   ]
  },
  {
   "cell_type": "code",
   "execution_count": 27,
   "id": "be433f50",
   "metadata": {},
   "outputs": [],
   "source": [
    "# merging the author name and news title\n",
    "df['Contant']= df['author']+' '+ df['title']"
   ]
  },
  {
   "cell_type": "code",
   "execution_count": 28,
   "id": "246e3e7e",
   "metadata": {},
   "outputs": [
    {
     "data": {
      "text/plain": [
       "id\n",
       "0        Darrell Lucus House Dem Aide: We Didn’t Even S...\n",
       "1        Daniel J. Flynn FLYNN: Hillary Clinton, Big Wo...\n",
       "2        Consortiumnews.com Why the Truth Might Get You...\n",
       "3        Jessica Purkiss 15 Civilians Killed In Single ...\n",
       "4        Howard Portnoy Iranian woman jailed for fictio...\n",
       "                               ...                        \n",
       "20795    Jerome Hudson Rapper T.I.: Trump a ’Poster Chi...\n",
       "20796    Benjamin Hoffman N.F.L. Playoffs: Schedule, Ma...\n",
       "20797    Michael J. de la Merced and Rachel Abrams Macy...\n",
       "20798    Alex Ansary NATO, Russia To Hold Parallel Exer...\n",
       "20799              David Swanson What Keeps the F-35 Alive\n",
       "Name: Contant, Length: 20691, dtype: object"
      ]
     },
     "execution_count": 28,
     "metadata": {},
     "output_type": "execute_result"
    }
   ],
   "source": [
    "df['Contant']"
   ]
  },
  {
   "cell_type": "code",
   "execution_count": 29,
   "id": "9133d189",
   "metadata": {},
   "outputs": [],
   "source": [
    "# seperating the data and lable \n",
    "x= df.drop(columns='label',axis=1)\n",
    "y= df['label']"
   ]
  },
  {
   "cell_type": "code",
   "execution_count": 30,
   "id": "a50d095b",
   "metadata": {},
   "outputs": [
    {
     "data": {
      "text/html": [
       "<div>\n",
       "<style scoped>\n",
       "    .dataframe tbody tr th:only-of-type {\n",
       "        vertical-align: middle;\n",
       "    }\n",
       "\n",
       "    .dataframe tbody tr th {\n",
       "        vertical-align: top;\n",
       "    }\n",
       "\n",
       "    .dataframe thead th {\n",
       "        text-align: right;\n",
       "    }\n",
       "</style>\n",
       "<table border=\"1\" class=\"dataframe\">\n",
       "  <thead>\n",
       "    <tr style=\"text-align: right;\">\n",
       "      <th></th>\n",
       "      <th>title</th>\n",
       "      <th>author</th>\n",
       "      <th>text</th>\n",
       "      <th>Contant</th>\n",
       "    </tr>\n",
       "    <tr>\n",
       "      <th>id</th>\n",
       "      <th></th>\n",
       "      <th></th>\n",
       "      <th></th>\n",
       "      <th></th>\n",
       "    </tr>\n",
       "  </thead>\n",
       "  <tbody>\n",
       "    <tr>\n",
       "      <th>0</th>\n",
       "      <td>House Dem Aide: We Didn’t Even See Comey’s Let...</td>\n",
       "      <td>Darrell Lucus</td>\n",
       "      <td>House Dem Aide: We Didn’t Even See Comey’s Let...</td>\n",
       "      <td>Darrell Lucus House Dem Aide: We Didn’t Even S...</td>\n",
       "    </tr>\n",
       "    <tr>\n",
       "      <th>1</th>\n",
       "      <td>FLYNN: Hillary Clinton, Big Woman on Campus - ...</td>\n",
       "      <td>Daniel J. Flynn</td>\n",
       "      <td>Ever get the feeling your life circles the rou...</td>\n",
       "      <td>Daniel J. Flynn FLYNN: Hillary Clinton, Big Wo...</td>\n",
       "    </tr>\n",
       "    <tr>\n",
       "      <th>2</th>\n",
       "      <td>Why the Truth Might Get You Fired</td>\n",
       "      <td>Consortiumnews.com</td>\n",
       "      <td>Why the Truth Might Get You Fired October 29, ...</td>\n",
       "      <td>Consortiumnews.com Why the Truth Might Get You...</td>\n",
       "    </tr>\n",
       "    <tr>\n",
       "      <th>3</th>\n",
       "      <td>15 Civilians Killed In Single US Airstrike Hav...</td>\n",
       "      <td>Jessica Purkiss</td>\n",
       "      <td>Videos 15 Civilians Killed In Single US Airstr...</td>\n",
       "      <td>Jessica Purkiss 15 Civilians Killed In Single ...</td>\n",
       "    </tr>\n",
       "    <tr>\n",
       "      <th>4</th>\n",
       "      <td>Iranian woman jailed for fictional unpublished...</td>\n",
       "      <td>Howard Portnoy</td>\n",
       "      <td>Print \\nAn Iranian woman has been sentenced to...</td>\n",
       "      <td>Howard Portnoy Iranian woman jailed for fictio...</td>\n",
       "    </tr>\n",
       "  </tbody>\n",
       "</table>\n",
       "</div>"
      ],
      "text/plain": [
       "                                                title              author  \\\n",
       "id                                                                          \n",
       "0   House Dem Aide: We Didn’t Even See Comey’s Let...       Darrell Lucus   \n",
       "1   FLYNN: Hillary Clinton, Big Woman on Campus - ...     Daniel J. Flynn   \n",
       "2                   Why the Truth Might Get You Fired  Consortiumnews.com   \n",
       "3   15 Civilians Killed In Single US Airstrike Hav...     Jessica Purkiss   \n",
       "4   Iranian woman jailed for fictional unpublished...      Howard Portnoy   \n",
       "\n",
       "                                                 text  \\\n",
       "id                                                      \n",
       "0   House Dem Aide: We Didn’t Even See Comey’s Let...   \n",
       "1   Ever get the feeling your life circles the rou...   \n",
       "2   Why the Truth Might Get You Fired October 29, ...   \n",
       "3   Videos 15 Civilians Killed In Single US Airstr...   \n",
       "4   Print \\nAn Iranian woman has been sentenced to...   \n",
       "\n",
       "                                              Contant  \n",
       "id                                                     \n",
       "0   Darrell Lucus House Dem Aide: We Didn’t Even S...  \n",
       "1   Daniel J. Flynn FLYNN: Hillary Clinton, Big Wo...  \n",
       "2   Consortiumnews.com Why the Truth Might Get You...  \n",
       "3   Jessica Purkiss 15 Civilians Killed In Single ...  \n",
       "4   Howard Portnoy Iranian woman jailed for fictio...  "
      ]
     },
     "execution_count": 30,
     "metadata": {},
     "output_type": "execute_result"
    }
   ],
   "source": [
    "x.head()"
   ]
  },
  {
   "cell_type": "code",
   "execution_count": 31,
   "id": "81ed6d8e",
   "metadata": {},
   "outputs": [
    {
     "data": {
      "text/plain": [
       "id\n",
       "0    1\n",
       "1    0\n",
       "2    1\n",
       "3    1\n",
       "4    1\n",
       "Name: label, dtype: int64"
      ]
     },
     "execution_count": 31,
     "metadata": {},
     "output_type": "execute_result"
    }
   ],
   "source": [
    "y.head()"
   ]
  },
  {
   "cell_type": "markdown",
   "id": "c067afbf",
   "metadata": {},
   "source": [
    "## Data Preprocessing"
   ]
  },
  {
   "cell_type": "code",
   "execution_count": 32,
   "id": "e87352ce",
   "metadata": {},
   "outputs": [],
   "source": [
    "from nltk.stem.porter import PorterStemmer\n",
    "port_stem= PorterStemmer()"
   ]
  },
  {
   "cell_type": "code",
   "execution_count": 40,
   "id": "8a6d705a",
   "metadata": {},
   "outputs": [],
   "source": [
    "## importing sklearn modules for data Preprocessing\n",
    "from sklearn.feature_extraction.text import CountVectorizer, TfidfVectorizer, HashingVectorizer"
   ]
  },
  {
   "cell_type": "code",
   "execution_count": 33,
   "id": "d1dff086",
   "metadata": {},
   "outputs": [],
   "source": [
    "def stemming(content):\n",
    "    stemmed_content= re.sub('[^a-zA-Z]',' ',content) #for seaching a para or text... sub means subtitue, ^ means exclutiont/remeove int or special character replaced by \" \" \n",
    "    stemmed_content= stemmed_content.lower() #to make all as lower case letter \n",
    "    stemmed_content= stemmed_content.split() #it splitted and converted into list \n",
    "    stemmed_content=[port_stem.stem(word) for word in stemmed_content if not word in stopwords.words('english')] #removed stopword and stem it \n",
    "    stemmed_content= ' '.join(stemmed_content) #once i have done i will join all \n",
    "    return stemmed_content"
   ]
  },
  {
   "cell_type": "code",
   "execution_count": 34,
   "id": "84b0c3fe",
   "metadata": {},
   "outputs": [],
   "source": [
    "df['Contant']= df['Contant'].apply(stemming)"
   ]
  },
  {
   "cell_type": "code",
   "execution_count": 35,
   "id": "448aa372",
   "metadata": {},
   "outputs": [
    {
     "name": "stdout",
     "output_type": "stream",
     "text": [
      "id\n",
      "0        darrel lucu hous dem aid even see comey letter...\n",
      "1        daniel j flynn flynn hillari clinton big woman...\n",
      "2                   consortiumnew com truth might get fire\n",
      "3        jessica purkiss civilian kill singl us airstri...\n",
      "4        howard portnoy iranian woman jail fiction unpu...\n",
      "                               ...                        \n",
      "20795    jerom hudson rapper trump poster child white s...\n",
      "20796    benjamin hoffman n f l playoff schedul matchup...\n",
      "20797    michael j de la merc rachel abram maci said re...\n",
      "20798    alex ansari nato russia hold parallel exercis ...\n",
      "20799                            david swanson keep f aliv\n",
      "Name: Contant, Length: 20691, dtype: object\n",
      "object\n"
     ]
    }
   ],
   "source": [
    "print(df['Contant'])\n",
    "print(df['Contant'].dtype)"
   ]
  },
  {
   "cell_type": "code",
   "execution_count": 36,
   "id": "9f1bd6d5",
   "metadata": {},
   "outputs": [],
   "source": [
    "# seperating the data and label\n",
    "\n",
    "x= df['Contant'].values\n",
    "y= df['label'].values"
   ]
  },
  {
   "cell_type": "code",
   "execution_count": 37,
   "id": "5d6e855d",
   "metadata": {},
   "outputs": [
    {
     "name": "stdout",
     "output_type": "stream",
     "text": [
      "['darrel lucu hous dem aid even see comey letter jason chaffetz tweet'\n",
      " 'daniel j flynn flynn hillari clinton big woman campu breitbart'\n",
      " 'consortiumnew com truth might get fire' ...\n",
      " 'michael j de la merc rachel abram maci said receiv takeov approach hudson bay new york time'\n",
      " 'alex ansari nato russia hold parallel exercis balkan'\n",
      " 'david swanson keep f aliv']\n"
     ]
    }
   ],
   "source": [
    "print(x)"
   ]
  },
  {
   "cell_type": "code",
   "execution_count": 38,
   "id": "21658241",
   "metadata": {},
   "outputs": [
    {
     "name": "stdout",
     "output_type": "stream",
     "text": [
      "[1 0 1 ... 0 1 1]\n"
     ]
    }
   ],
   "source": [
    "print(y)"
   ]
  },
  {
   "cell_type": "code",
   "execution_count": 41,
   "id": "c194840b",
   "metadata": {},
   "outputs": [],
   "source": [
    "#converting the text data to neumwerical data \n",
    "vectorizer= TfidfVectorizer()"
   ]
  },
  {
   "cell_type": "code",
   "execution_count": 42,
   "id": "741f3c80",
   "metadata": {},
   "outputs": [],
   "source": [
    "vectorizer.fit(x) #\n",
    "x= vectorizer.transform(x)"
   ]
  },
  {
   "cell_type": "code",
   "execution_count": 43,
   "id": "f797bd7f",
   "metadata": {},
   "outputs": [
    {
     "name": "stdout",
     "output_type": "stream",
     "text": [
      "  (0, 15686)\t0.28426135218243687\n",
      "  (0, 13473)\t0.25603669745523516\n",
      "  (0, 8909)\t0.3629059155291961\n",
      "  (0, 8630)\t0.29225296888981106\n",
      "  (0, 7692)\t0.2475656884053563\n",
      "  (0, 7005)\t0.21823735188191054\n",
      "  (0, 4973)\t0.23279389989400245\n",
      "  (0, 3792)\t0.26996236127837187\n",
      "  (0, 3600)\t0.3592082110748297\n",
      "  (0, 2959)\t0.2463045634369086\n",
      "  (0, 2483)\t0.3714337764842025\n",
      "  (0, 267)\t0.26996236127837187\n",
      "  (1, 16799)\t0.30061773341516074\n",
      "  (1, 6816)\t0.19078637825470163\n",
      "  (1, 5503)\t0.7141918254203378\n",
      "  (1, 3568)\t0.2636178737261861\n",
      "  (1, 2813)\t0.19139289772625737\n",
      "  (1, 2223)\t0.38267687425953784\n",
      "  (1, 1894)\t0.15504096987647997\n",
      "  (1, 1497)\t0.2942017261171187\n",
      "  (2, 15611)\t0.41536181362013164\n",
      "  (2, 9620)\t0.4934771106665822\n",
      "  (2, 5968)\t0.34753819003893194\n",
      "  (2, 5389)\t0.3869199553865786\n",
      "  (2, 3103)\t0.46091623790913044\n",
      "  :\t:\n",
      "  (20688, 13122)\t0.24823556285386694\n",
      "  (20688, 12344)\t0.2726353671715289\n",
      "  (20688, 12138)\t0.24776516050022307\n",
      "  (20688, 10306)\t0.08024633363443182\n",
      "  (20688, 9588)\t0.1745499729573385\n",
      "  (20688, 9518)\t0.2954378844230018\n",
      "  (20688, 8988)\t0.3616746647857103\n",
      "  (20688, 8364)\t0.22319045101014792\n",
      "  (20688, 7042)\t0.2179512457029622\n",
      "  (20688, 3643)\t0.21151104804306417\n",
      "  (20688, 1287)\t0.3354273280782726\n",
      "  (20688, 699)\t0.3068843247271481\n",
      "  (20688, 43)\t0.29712113498241866\n",
      "  (20689, 13046)\t0.2234810933943926\n",
      "  (20689, 11052)\t0.4459990583703547\n",
      "  (20689, 10177)\t0.3191406500185865\n",
      "  (20689, 6889)\t0.32562143300154517\n",
      "  (20689, 5032)\t0.4083008585366071\n",
      "  (20689, 1125)\t0.4459990583703547\n",
      "  (20689, 588)\t0.3111015858964702\n",
      "  (20689, 350)\t0.2843448976286823\n",
      "  (20690, 14852)\t0.5667504541234859\n",
      "  (20690, 8036)\t0.4589501794670758\n",
      "  (20690, 3623)\t0.3787074914175579\n",
      "  (20690, 377)\t0.5698590101614449\n"
     ]
    }
   ],
   "source": [
    "print(x)"
   ]
  },
  {
   "cell_type": "markdown",
   "id": "d6dcd269",
   "metadata": {},
   "source": [
    "## Modelling"
   ]
  },
  {
   "cell_type": "code",
   "execution_count": 44,
   "id": "7d346793",
   "metadata": {},
   "outputs": [],
   "source": [
    "# split data into train, test sets\n",
    "np.random.seed(42)\n",
    "\n",
    "\n",
    "# split into train and test sets\n",
    "x_train, x_test, y_train, y_test= train_test_split(x,y, test_size=0.2, stratify=y, random_state=2)"
   ]
  },
  {
   "cell_type": "code",
   "execution_count": 45,
   "id": "18b5a12b",
   "metadata": {},
   "outputs": [],
   "source": [
    "## logistic regression\n",
    "model = LogisticRegression()"
   ]
  },
  {
   "cell_type": "code",
   "execution_count": 46,
   "id": "ba8e2b30",
   "metadata": {},
   "outputs": [
    {
     "data": {
      "text/plain": [
       "LogisticRegression()"
      ]
     },
     "execution_count": 46,
     "metadata": {},
     "output_type": "execute_result"
    }
   ],
   "source": [
    "model.fit(x_train, y_train)"
   ]
  },
  {
   "cell_type": "code",
   "execution_count": 47,
   "id": "75c076a6",
   "metadata": {},
   "outputs": [],
   "source": [
    "from sklearn.metrics import accuracy_score\n",
    "#accuracy_score on the trainig data\n",
    "x_train_prediction= model.predict(x_train) #prediction on values x_train \n",
    "\n",
    "training_data_accuracy= accuracy_score(x_train_prediction, y_train)"
   ]
  },
  {
   "cell_type": "code",
   "execution_count": 48,
   "id": "904480f5",
   "metadata": {},
   "outputs": [
    {
     "name": "stdout",
     "output_type": "stream",
     "text": [
      "Accuracy Score of the trainig data:  0.9868898018366361\n"
     ]
    }
   ],
   "source": [
    "print(\"Accuracy Score of the trainig data: \",training_data_accuracy)"
   ]
  },
  {
   "cell_type": "code",
   "execution_count": 49,
   "id": "d3c48ce8",
   "metadata": {},
   "outputs": [],
   "source": [
    "#acuracy_ score on the test data\n",
    "x_test_prediction= model.predict(x_test)\n",
    "testing_data_accuracy= accuracy_score(x_test_prediction, y_test)"
   ]
  },
  {
   "cell_type": "code",
   "execution_count": 50,
   "id": "f65c773f",
   "metadata": {},
   "outputs": [
    {
     "name": "stdout",
     "output_type": "stream",
     "text": [
      "Accuracy Score of the test data:  0.9777724087943948\n"
     ]
    }
   ],
   "source": [
    "print(\"Accuracy Score of the test data: \",testing_data_accuracy)"
   ]
  },
  {
   "cell_type": "code",
   "execution_count": 51,
   "id": "8fdcd6b2",
   "metadata": {},
   "outputs": [
    {
     "name": "stdout",
     "output_type": "stream",
     "text": [
      "  (0, 16974)\t0.3310732410740039\n",
      "  (0, 16241)\t0.3702921402919044\n",
      "  (0, 16051)\t0.38144532736007614\n",
      "  (0, 14533)\t0.26102525849003116\n",
      "  (0, 13882)\t0.2653033579688228\n",
      "  (0, 4625)\t0.1670228587932072\n",
      "  (0, 3632)\t0.19519755413352413\n",
      "  (0, 3623)\t0.20101527848429493\n",
      "  (0, 2540)\t0.2840453943096006\n",
      "  (0, 1827)\t0.38144532736007614\n",
      "  (0, 1737)\t0.3024771630358\n",
      "  (0, 1064)\t0.21253946495612508\n"
     ]
    }
   ],
   "source": [
    "#building a predictive system\n",
    "print(x_test[1])"
   ]
  },
  {
   "cell_type": "code",
   "execution_count": 52,
   "id": "9575ca7c",
   "metadata": {},
   "outputs": [
    {
     "name": "stdout",
     "output_type": "stream",
     "text": [
      "[1]\n",
      "News is fake\n"
     ]
    }
   ],
   "source": [
    "x_news = x_test[1]\n",
    "\n",
    "prediction= model.predict(x_news)\n",
    "print(prediction)\n",
    "\n",
    "if prediction[0]==0:\n",
    "    print(\"News is real\")\n",
    "else:\n",
    "    print(\"News is fake\")"
   ]
  },
  {
   "cell_type": "markdown",
   "id": "0a6ccdc0",
   "metadata": {},
   "source": [
    "## Testing it from Y_test Col for confirmation of result \n",
    "### Where 0 stands for real news and 1 stands for Fake news "
   ]
  },
  {
   "cell_type": "markdown",
   "id": "da65a996",
   "metadata": {},
   "source": [
    "print(y_test[1])"
   ]
  },
  {
   "cell_type": "code",
   "execution_count": 53,
   "id": "caed76c6",
   "metadata": {},
   "outputs": [],
   "source": [
    "#saving the trained model\n",
    "\n",
    "import pickle"
   ]
  },
  {
   "cell_type": "code",
   "execution_count": 54,
   "id": "00064283",
   "metadata": {},
   "outputs": [],
   "source": [
    "filename='Trained_model.pkl'\n",
    "pickle.dump(model, open(filename,'wb'))"
   ]
  },
  {
   "cell_type": "code",
   "execution_count": 55,
   "id": "8b347111",
   "metadata": {},
   "outputs": [],
   "source": [
    "#loading a saved model\n",
    "\n",
    "loaded_model= pickle.load(open('Trained_model.pkl','rb'))"
   ]
  },
  {
   "cell_type": "markdown",
   "id": "eca03652",
   "metadata": {},
   "source": [
    "## Accuracy score on the test data with Logistic Regression Model"
   ]
  },
  {
   "cell_type": "code",
   "execution_count": 56,
   "id": "a8773543",
   "metadata": {},
   "outputs": [],
   "source": [
    "x_test_prediction= loaded_model.predict(x_test)\n",
    "testing_data_accuracy= accuracy_score(x_test_prediction, y_test)"
   ]
  },
  {
   "cell_type": "code",
   "execution_count": 57,
   "id": "50065015",
   "metadata": {},
   "outputs": [
    {
     "name": "stdout",
     "output_type": "stream",
     "text": [
      "0.9777724087943948\n"
     ]
    }
   ],
   "source": [
    "print(testing_data_accuracy)"
   ]
  },
  {
   "cell_type": "code",
   "execution_count": null,
   "id": "cc9fdb9b",
   "metadata": {},
   "outputs": [],
   "source": []
  }
 ],
 "metadata": {
  "kernelspec": {
   "display_name": "Python 3 (ipykernel)",
   "language": "python",
   "name": "python3"
  },
  "language_info": {
   "codemirror_mode": {
    "name": "ipython",
    "version": 3
   },
   "file_extension": ".py",
   "mimetype": "text/x-python",
   "name": "python",
   "nbconvert_exporter": "python",
   "pygments_lexer": "ipython3",
   "version": "3.9.7"
  }
 },
 "nbformat": 4,
 "nbformat_minor": 5
}
